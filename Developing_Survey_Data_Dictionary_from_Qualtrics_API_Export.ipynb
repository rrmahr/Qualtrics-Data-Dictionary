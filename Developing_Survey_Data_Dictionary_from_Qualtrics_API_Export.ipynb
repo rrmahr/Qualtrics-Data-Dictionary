{
 "cells": [
  {
   "cell_type": "markdown",
   "id": "297db12c",
   "metadata": {},
   "source": [
    "# Developing a Data Dictionary from Qualtrics API\n",
    "This code can be utilized to generate a data dictionary in csv format to accompany responses exported from the Qualtrics API.\n"
   ]
  },
  {
   "cell_type": "markdown",
   "id": "ecab2c02",
   "metadata": {},
   "source": [
    "## TOC\n",
    "* [Step 1: Imports, API Setup, Loading Data](#1)\n",
    "* [Step 2: Compile Data Dictionary](#2)\n",
    "* [Step 3: Clean Data Dictionary](#3)\n",
    "* [Step 4: Save as csv](#4)"
   ]
  },
  {
   "cell_type": "markdown",
   "id": "e8f7cf3d",
   "metadata": {},
   "source": [
    "## Step 1: Imports, API Setup, Loading Data <a class=\"anchor\" id=\"1\"></a>"
   ]
  },
  {
   "cell_type": "code",
   "execution_count": null,
   "id": "bf2e1352",
   "metadata": {},
   "outputs": [],
   "source": [
    "#Import libraries\n",
    "import pandas as pd\n",
    "import numpy as np\n",
    "import re\n",
    "import json\n",
    "import io\n",
    "from html.parser import HTMLParser\n",
    "from io import StringIO\n",
    "from QualtricsAPI.Survey import Responses #python package that loads responses as pandas dataframe\n",
    "import os\n",
    "import requests"
   ]
  },
  {
   "cell_type": "code",
   "execution_count": null,
   "id": "4711d39e",
   "metadata": {},
   "outputs": [],
   "source": [
    "#Save tokens and survey ID here -- need Qualtrics API access -- replace xxxx below with credentials and survey ID\n",
    "token=\"xxxx\"\n",
    "data_center=\"xxxx\"\n",
    "directory_id=\"xxxx\"\n",
    "survey=\"xxxx\""
   ]
  },
  {
   "cell_type": "markdown",
   "id": "e54b69fa",
   "metadata": {},
   "source": [
    "#### Load survey response data from QualtricsAPI python package"
   ]
  },
  {
   "cell_type": "code",
   "execution_count": null,
   "id": "1142e966",
   "metadata": {},
   "outputs": [],
   "source": [
    "#Initital QualtricsAPI setup\n",
    "from QualtricsAPI.Setup import Credentials\n",
    "\n",
    "#Create an instance of Credentials\n",
    "c = Credentials()\n",
    "\n",
    "#Call the qualtrics_api_credentials() method\n",
    "c.qualtrics_api_credentials(token, data_center, directory_id)"
   ]
  },
  {
   "cell_type": "code",
   "execution_count": null,
   "id": "5b3c029d",
   "metadata": {
    "scrolled": false
   },
   "outputs": [],
   "source": [
    "#Create an instance\n",
    "r = Responses()\n",
    "\n",
    "#Load responses into df\n",
    "df = r.get_survey_responses(survey)    "
   ]
  },
  {
   "cell_type": "code",
   "execution_count": null,
   "id": "e6df081e",
   "metadata": {},
   "outputs": [],
   "source": [
    "#Will use this dict later to rename vars\n",
    "\n",
    "#Create dictionary with each QID : Var_Name (where the var name is the Question_Export_Tag)\n",
    "api_q_dict = {}\n",
    "for i in df.columns:\n",
    "    api_q_dict.update({json.loads(df.iloc[1][i])['ImportId']: i})"
   ]
  },
  {
   "cell_type": "markdown",
   "id": "232eb0f9",
   "metadata": {},
   "source": [
    "#### Load survey design from the Get Survey API (Qualtrics API)"
   ]
  },
  {
   "cell_type": "code",
   "execution_count": null,
   "id": "d3543d28",
   "metadata": {},
   "outputs": [],
   "source": [
    "## Setting user Parameters - this will throw an error after it is set, you have to then comment out\n",
    "#apiToken = os.environ[token] \n",
    "#dataCenter = os.environ[data_center]\n",
    "\n",
    "baseUrl = \"https://{0}.qualtrics.com/API/v3/surveys/{1}\".format(os.environ['data_center'], survey)\n",
    "headers = {\n",
    "    \"x-api-token\": os.environ['token'],\n",
    "    }\n",
    "\n",
    "response = requests.get(baseUrl, headers=headers)\n",
    "data = response.json()\n",
    "\n",
    "#Set data to result level\n",
    "data = data['result']"
   ]
  },
  {
   "cell_type": "markdown",
   "id": "2404ee76",
   "metadata": {},
   "source": [
    "## Step 2: Compile Data Dictionary <a class=\"anchor\" id=\"2\"></a>"
   ]
  },
  {
   "cell_type": "markdown",
   "id": "362f3fb1",
   "metadata": {},
   "source": [
    "### Questions\n",
    "* Each question type has variations in their design so have to compile the data dictionary by question type.\n",
    "* Includes the following commonly used question types:\n",
    "    * Multiple choice (multi & single select)\n",
    "    * Text entry (general & form)\n",
    "    * Matrix (text entry & non-text entry)\n",
    "    * Side-by-Side (text entry & non-text entry)"
   ]
  },
  {
   "cell_type": "markdown",
   "id": "983ad932",
   "metadata": {},
   "source": [
    "#### Multi-select Multiple Choice Variables"
   ]
  },
  {
   "cell_type": "code",
   "execution_count": null,
   "id": "9b477cfd",
   "metadata": {},
   "outputs": [],
   "source": [
    "#Create list of QIDs for multi-select variables\n",
    "multi_select_range = []\n",
    "for i in data['questions']:\n",
    "    if ((data['questions'][i]['questionType']['type'] == 'MC') & (data['questions'][i]['questionType']['selector'] == 'MAVR')):\n",
    "        multi_select_range.append(i)"
   ]
  },
  {
   "cell_type": "code",
   "execution_count": null,
   "id": "54ffc946",
   "metadata": {},
   "outputs": [],
   "source": [
    "#Create multi-select variable name list\n",
    "ms_var_list = []\n",
    "\n",
    "#Need to select values from the key, value pairs of the choices\n",
    "for i in multi_select_range:\n",
    "    for key, value in data['questions'][i]['choices'].items():\n",
    "        #then need to add that to the data questionName to get the desired variable names\n",
    "        ms_var_list.append(str(data['questions'][i]['questionName']) + '_' + str(value['recode']))"
   ]
  },
  {
   "cell_type": "code",
   "execution_count": null,
   "id": "9050a9b0",
   "metadata": {},
   "outputs": [],
   "source": [
    "#Get variable labels\n",
    "ms_var_label_list = []\n",
    "\n",
    "#Need to select values from the key, value pairs of the choices\n",
    "for i in multi_select_range:\n",
    "    for key, value in data['questions'][i]['choices'].items():\n",
    "        #then need to add that to the data questionText to get the desired variable labels\n",
    "        ms_var_label_list.append(str(data['questions'][i]['questionText']) + ' - ' + str(value['choiceText']))\n"
   ]
  },
  {
   "cell_type": "code",
   "execution_count": null,
   "id": "e8f1c936",
   "metadata": {},
   "outputs": [],
   "source": [
    "#Create value labels dictionary: For multi-select, value labels will be 1 'Yes', 0 'No'\n",
    "\n",
    "#Create dictionary with response values and their corresponding labels\n",
    "ms_inner_dict = {'1': 'Yes', '0': 'No'}\n",
    "\n",
    "#Create nested dictionary w. var names : values\n",
    "ms_value_label_dict = {ms_var_list[i] : ms_inner_dict for i in range(len(ms_var_list))}\n",
    "\n",
    "#Create values df \n",
    "ms_rows = []\n",
    "for key, values in ms_value_label_dict.items():\n",
    "    for k, v in values.items():\n",
    "        ms_rows.append([key,k,v])\n",
    "ms_values_df = pd.DataFrame(ms_rows, columns=[\"Var_Name\", \"Value\",\"Value_Label\"])"
   ]
  },
  {
   "cell_type": "code",
   "execution_count": null,
   "id": "17dcd8aa",
   "metadata": {},
   "outputs": [],
   "source": [
    "#Create data_dict_df\n",
    "data_dict_df = pd.DataFrame(columns = [\"Var_Name\",\"Var_Label\",\"Value\",\"Value_Label\",\"Data_Type\"])\n",
    "\n",
    "#Add multi-select vars to codebook if any\n",
    "if len(ms_var_list) > 0:\n",
    "    #first create a placeholder df with Var_Name & Var_Labels\n",
    "    p_data_dict_df = pd.concat([pd.Series(x) for x in [ms_var_list, ms_var_label_list]], axis=1).rename(columns={0:\"Var_Name\",1:\"Var_Label\"})\n",
    "    #merge in values df\n",
    "    p_data_dict_df = pd.merge(p_data_dict_df, ms_values_df, on='Var_Name', how='inner')\n",
    "    #assign data type -- INT because categorical\n",
    "    p_data_dict_df['Data_Type'] = \"INT\"\n",
    "    #assign question type\n",
    "    p_data_dict_df['Question_Type'] = \"multi-select\"\n",
    "\n",
    "    #merge into data_dict_df\n",
    "    data_dict_df = pd.concat([data_dict_df,p_data_dict_df])"
   ]
  },
  {
   "cell_type": "markdown",
   "id": "4ad3fdd4",
   "metadata": {},
   "source": [
    "#### Multi-select Multiple Choice Other Text Entry Variables"
   ]
  },
  {
   "cell_type": "code",
   "execution_count": null,
   "id": "d00a9140",
   "metadata": {},
   "outputs": [],
   "source": [
    "ms_ote_var_list = []\n",
    "for i in multi_select_range:\n",
    "    for key, value in data['questions'][i]['choices'].items():\n",
    "        for key2,value2 in value.items():\n",
    "            if key2 == 'textEntry':\n",
    "                ms_ote_var_list.append(str(data['questions'][i]['questionName']) + '_' + str(value['recode']) + '_TEXT')\n"
   ]
  },
  {
   "cell_type": "code",
   "execution_count": null,
   "id": "909bc475",
   "metadata": {},
   "outputs": [],
   "source": [
    "#Get variable labels\n",
    "ms_ote_var_label_list = []\n",
    "\n",
    "#Need to select values from the key, value pairs of the choices\n",
    "for i in multi_select_range:\n",
    "    for key, value in data['questions'][i]['choices'].items():\n",
    "        for key2,value2 in value.items():\n",
    "            if key2 == 'textEntry':\n",
    "                ms_ote_var_label_list.append(str(data['questions'][i]['questionText']) + ' - ' + str(value['choiceText'] + ' - TEXT'))\n",
    "\n"
   ]
  },
  {
   "cell_type": "code",
   "execution_count": null,
   "id": "8a9649cf",
   "metadata": {},
   "outputs": [],
   "source": [
    "#Create value labels: For mult-select other text entry, value labels will be {nan: 'text'}\n",
    "\n",
    "#Create dictionary with responses\n",
    "ms_ote_inner_dict = {np.nan: 'text'}\n",
    "\n",
    "#Create nested dictionary w. var names : values\n",
    "ms_ote_value_label_dict = {ms_ote_var_list[i] : ms_ote_inner_dict for i in range(len(ms_ote_var_list))}\n",
    "\n",
    "#Create values df \n",
    "ms_ote_rows = []\n",
    "for key, values in ms_ote_value_label_dict.items():\n",
    "    for k, v in values.items():\n",
    "        ms_ote_rows.append([key,k,v])\n",
    "ms_ote_values_df = pd.DataFrame(ms_ote_rows, columns=[\"Var_Name\", \"Value\",\"Value_Label\"])\n"
   ]
  },
  {
   "cell_type": "code",
   "execution_count": null,
   "id": "ac80aa2f",
   "metadata": {},
   "outputs": [],
   "source": [
    "#Update data_dict_df with text-entry vars if any\n",
    "if len(ms_ote_var_list) > 0:\n",
    "    #first create a placeholder df with Var_Name & Var_Labels\n",
    "    p_data_dict_df = pd.concat([pd.Series(x) for x in [ms_ote_var_list, ms_ote_var_label_list]], axis=1).rename(columns={0:\"Var_Name\",1:\"Var_Label\"})\n",
    "    #merge in values df\n",
    "    p_data_dict_df = pd.merge(p_data_dict_df, ms_ote_values_df, on='Var_Name', how='inner')\n",
    "    #assign data type -- STRING because text entry\n",
    "    p_data_dict_df['Data_Type'] = \"STRING\"\n",
    "    #assign question type\n",
    "    p_data_dict_df['Question_Type'] = \"multi-select text-entry\"\n",
    "    #merge into data_dict_df\n",
    "    data_dict_df = pd.concat([data_dict_df,p_data_dict_df])"
   ]
  },
  {
   "cell_type": "markdown",
   "id": "2576cb63",
   "metadata": {},
   "source": [
    "#### Single-select MC Variables"
   ]
  },
  {
   "cell_type": "code",
   "execution_count": null,
   "id": "c861cd9e",
   "metadata": {},
   "outputs": [],
   "source": [
    "#Create list of QIDs for single select variables\n",
    "single_select_range = []\n",
    "for i in data['questions']:\n",
    "    if ((data['questions'][i]['questionType']['type'] == 'MC') & (data['questions'][i]['questionType']['selector'] != 'MAVR')):\n",
    "        single_select_range.append(i)"
   ]
  },
  {
   "cell_type": "code",
   "execution_count": null,
   "id": "0b9447fa",
   "metadata": {},
   "outputs": [],
   "source": [
    "#Create single-select variable name list\n",
    "single_var_list = []\n",
    "\n",
    "#pull from questionNames\n",
    "for i in single_select_range:\n",
    "    single_var_list.append(data['questions'][i]['questionName'])"
   ]
  },
  {
   "cell_type": "code",
   "execution_count": null,
   "id": "872cc457",
   "metadata": {},
   "outputs": [],
   "source": [
    "#Get variable labels\n",
    "single_var_label_list = []\n",
    "\n",
    "#pull from questionText\n",
    "for i in single_select_range:\n",
    "    single_var_label_list.append(data['questions'][i]['questionText'])"
   ]
  },
  {
   "cell_type": "code",
   "execution_count": null,
   "id": "3447156c",
   "metadata": {},
   "outputs": [],
   "source": [
    "#Create list of value and label dictionaries\n",
    "single_value_label_dict_list = []\n",
    "\n",
    "#Iterate through the choices\n",
    "for i in single_select_range:\n",
    "    single_inner_dict = {}\n",
    "    for j in data['questions'][i]['choices']:\n",
    "        #for each, create a dict with the recode value as keys and corresp. choiceText as values (the labels)\n",
    "        single_inner_dict.update({data['questions'][i]['choices'][j]['recode'] : data['questions'][i]['choices'][j]['choiceText']})\n",
    "    #add each into a list\n",
    "    single_value_label_dict_list.append(single_inner_dict)\n",
    "\n",
    "#Create nested dictionary w. each var name as the keys and each dict in the list created above as the values  \n",
    "single_value_label_dict = {single_var_list[i] : single_value_label_dict_list[i] for i in range(len(single_var_list))}\n",
    "\n",
    "#Create values df\n",
    "single_rows = []\n",
    "for key, values in single_value_label_dict.items():\n",
    "    for k, v in values.items():\n",
    "        single_rows.append([key,k,v])\n",
    "single_values_df = pd.DataFrame(single_rows, columns=[\"Var_Name\", \"Value\",\"Value_Label\"])"
   ]
  },
  {
   "cell_type": "code",
   "execution_count": null,
   "id": "37f9d33f",
   "metadata": {},
   "outputs": [],
   "source": [
    "#Update data_dict_df with single-select vars if any\n",
    "if len(single_var_list) > 0:\n",
    "    #first create a placeholder df with Var_Name & Var_Labels\n",
    "    p_data_dict_df = pd.concat([pd.Series(x) for x in [single_var_list, single_var_label_list]], axis=1).rename(columns={0:\"Var_Name\",1:\"Var_Label\"})\n",
    "    #merge in values df\n",
    "    p_data_dict_df = pd.merge(p_data_dict_df, single_values_df, on='Var_Name', how='inner')\n",
    "    #assign data type -- INT because categorical\n",
    "    p_data_dict_df['Data_Type'] = \"INT\"\n",
    "    #assign question type\n",
    "    p_data_dict_df['Question_Type'] = \"single-select\"    \n",
    "    #merge into data_dict_df\n",
    "    data_dict_df = pd.concat([data_dict_df,p_data_dict_df])"
   ]
  },
  {
   "cell_type": "markdown",
   "id": "6e1d8dee",
   "metadata": {},
   "source": [
    "#### Single-select Multiple Choice Other Text Entry Variables"
   ]
  },
  {
   "cell_type": "code",
   "execution_count": null,
   "id": "1dada316",
   "metadata": {},
   "outputs": [],
   "source": [
    "#Create single-select variable name list\n",
    "single_var_list = []\n",
    "\n",
    "#pull from questionNames\n",
    "for i in single_select_range:\n",
    "    single_var_list.append(data['questions'][i]['questionName'])"
   ]
  },
  {
   "cell_type": "code",
   "execution_count": null,
   "id": "05b47884",
   "metadata": {},
   "outputs": [],
   "source": [
    "#Create var list\n",
    "single_ote_var_list = []\n",
    "for i in single_select_range:\n",
    "    for key, value in data['questions'][i]['choices'].items():\n",
    "        for key2,value2 in value.items():\n",
    "            if key2 == 'textEntry':\n",
    "                single_ote_var_list.append(str(data['questions'][i]['questionName']) + '_' + str(value['recode']) + '_TEXT')"
   ]
  },
  {
   "cell_type": "code",
   "execution_count": null,
   "id": "8a009c17",
   "metadata": {},
   "outputs": [],
   "source": [
    "#Get variable labels\n",
    "single_ote_var_label_list = []\n",
    "\n",
    "#Need to select values from the key, value pairs of the choices\n",
    "for i in single_select_range:\n",
    "    for key, value in data['questions'][i]['choices'].items():\n",
    "        for key2,value2 in value.items():\n",
    "            if key2 == 'textEntry':\n",
    "                single_ote_var_label_list.append(str(data['questions'][i]['questionText']) + ' - ' + str(value['choiceText'] + ' - TEXT'))\n"
   ]
  },
  {
   "cell_type": "code",
   "execution_count": null,
   "id": "09fc0b53",
   "metadata": {},
   "outputs": [],
   "source": [
    "#Create value labels: For mult-select other text entry, value labels will be {nan: 'text'}\n",
    "\n",
    "#Create dictionary with responses\n",
    "single_ote_inner_dict = {np.nan: 'text'}\n",
    "\n",
    "#Create nested dictionary w. var names : values\n",
    "single_ote_value_label_dict = {single_ote_var_list[i] : single_ote_inner_dict for i in range(len(single_ote_var_list))}\n",
    "\n",
    "#Create values df \n",
    "single_ote_rows = []\n",
    "for key, values in single_ote_value_label_dict.items():\n",
    "    for k, v in values.items():\n",
    "        single_ote_rows.append([key,k,v])\n",
    "single_ote_values_df = pd.DataFrame(single_ote_rows, columns=[\"Var_Name\", \"Value\",\"Value_Label\"])"
   ]
  },
  {
   "cell_type": "code",
   "execution_count": null,
   "id": "3101244d",
   "metadata": {},
   "outputs": [],
   "source": [
    "#Update data_dict_df with text-entry vars if any\n",
    "if len(single_ote_var_list) > 0:\n",
    "    #first create a placeholder df with Var_Name & Var_Labels\n",
    "    p_data_dict_df = pd.concat([pd.Series(x) for x in [single_ote_var_list, single_ote_var_label_list]], axis=1).rename(columns={0:\"Var_Name\",1:\"Var_Label\"})\n",
    "    #merge in values df\n",
    "    p_data_dict_df = pd.merge(p_data_dict_df, single_ote_values_df, on='Var_Name', how='inner')\n",
    "    #assign data type -- STRING because text entry\n",
    "    p_data_dict_df['Data_Type'] = \"STRING\"\n",
    "    #assign question type\n",
    "    p_data_dict_df['Question_Type'] = \"single-select text-entry\"\n",
    "    #merge into data_dict_df\n",
    "    data_dict_df = pd.concat([data_dict_df,p_data_dict_df])"
   ]
  },
  {
   "cell_type": "markdown",
   "id": "5b7a62dc",
   "metadata": {},
   "source": [
    "#### Text Entry Variables - Not Form"
   ]
  },
  {
   "cell_type": "code",
   "execution_count": null,
   "id": "12a3dc52",
   "metadata": {},
   "outputs": [],
   "source": [
    "#Create list of QIDs for Text Entry variables\n",
    "te_range = []\n",
    "for i in data['questions']:\n",
    "    if ((data['questions'][i]['questionType']['type'] == 'TE') & (data['questions'][i]['questionType']['selector'] != 'FORM')):\n",
    "        te_range.append(i)"
   ]
  },
  {
   "cell_type": "code",
   "execution_count": null,
   "id": "7e6c2365",
   "metadata": {},
   "outputs": [],
   "source": [
    "#Create text entry variable name list\n",
    "te_var_list = []\n",
    "\n",
    "#pull from questionName\n",
    "for i in te_range:\n",
    "    te_var_list.append(data['questions'][i]['questionName'])"
   ]
  },
  {
   "cell_type": "code",
   "execution_count": null,
   "id": "e6efe51b",
   "metadata": {},
   "outputs": [],
   "source": [
    "#Get variable labels\n",
    "te_var_label_list = []\n",
    "\n",
    "#pull from questionText\n",
    "for i in te_range:\n",
    "    te_var_label_list.append(data['questions'][i]['questionText'])"
   ]
  },
  {
   "cell_type": "code",
   "execution_count": null,
   "id": "3f6c198d",
   "metadata": {},
   "outputs": [],
   "source": [
    "#Create value labels: For text entry, value labels will be {'': 'text'}\n",
    "\n",
    "#Create dictionary with responses\n",
    "te_inner_dict = {np.nan: 'text'}\n",
    "\n",
    "#Create nested dictionary w. var names : values\n",
    "te_value_label_dict = {te_var_list[i] : te_inner_dict for i in range(len(te_var_list))}\n",
    "\n",
    "#Create values df \n",
    "te_rows = []\n",
    "for key, values in te_value_label_dict.items():\n",
    "    for k, v in values.items():\n",
    "        te_rows.append([key,k,v])\n",
    "te_values_df = pd.DataFrame(te_rows, columns=[\"Var_Name\", \"Value\",\"Value_Label\"])"
   ]
  },
  {
   "cell_type": "code",
   "execution_count": null,
   "id": "3075d404",
   "metadata": {
    "scrolled": false
   },
   "outputs": [],
   "source": [
    "#Update data_dict_df with text-entry vars if any\n",
    "if len(te_var_list) > 0:\n",
    "    #first create a placeholder df with Var_Name & Var_Labels\n",
    "    p_data_dict_df = pd.concat([pd.Series(x) for x in [te_var_list, te_var_label_list]], axis=1).rename(columns={0:\"Var_Name\",1:\"Var_Label\"})\n",
    "    #merge in values df\n",
    "    p_data_dict_df = pd.merge(p_data_dict_df, te_values_df, on='Var_Name', how='inner')\n",
    "    #assign data type -- STRING because text entry\n",
    "    p_data_dict_df['Data_Type'] = \"STRING\"\n",
    "    #assign question type\n",
    "    p_data_dict_df['Question_Type'] = \"text-entry\"\n",
    "    #merge into data_dict_df\n",
    "    data_dict_df = pd.concat([data_dict_df,p_data_dict_df])"
   ]
  },
  {
   "cell_type": "markdown",
   "id": "cc182755",
   "metadata": {},
   "source": [
    "#### Text Entry Variables - Form"
   ]
  },
  {
   "cell_type": "code",
   "execution_count": null,
   "id": "3bf37144",
   "metadata": {},
   "outputs": [],
   "source": [
    "#Create list of QIDs for Text Entry - Form variables\n",
    "te_form_range = []\n",
    "for i in data['questions']:\n",
    "    if ((data['questions'][i]['questionType']['type'] == 'TE') & (data['questions'][i]['questionType']['selector'] == 'FORM')):\n",
    "        te_form_range.append(i)"
   ]
  },
  {
   "cell_type": "code",
   "execution_count": null,
   "id": "6b670dd8",
   "metadata": {},
   "outputs": [],
   "source": [
    "#Create TE form variable name list\n",
    "te_form_var_list = []\n",
    "\n",
    "#Need to select key from the key, value pairs of the choices\n",
    "for i in te_form_range:\n",
    "    for key, value in data['questions'][i]['choices'].items():\n",
    "        #then need to add that to the data questionName to get the desired variable names\n",
    "        te_form_var_list.append(str(data['questions'][i]['questionName']) + '_' + str(key))"
   ]
  },
  {
   "cell_type": "code",
   "execution_count": null,
   "id": "087497c5",
   "metadata": {},
   "outputs": [],
   "source": [
    "#Get variable labels\n",
    "te_form_var_label_list = []\n",
    "\n",
    "#Need to select value descriptions from the key, value pairs of the choices\n",
    "for i in te_form_range:\n",
    "    for key, value in data['questions'][i]['choices'].items():\n",
    "        #then need to add that to the data questionText to get the desired variable labels\n",
    "        te_form_var_label_list.append(str(data['questions'][i]['questionText']) + ' - ' + str(value['description']))"
   ]
  },
  {
   "cell_type": "code",
   "execution_count": null,
   "id": "7b6d7a2d",
   "metadata": {},
   "outputs": [],
   "source": [
    "#Create dictionary with responses\n",
    "te_form_inner_dict = {np.nan: 'text'}\n",
    "\n",
    "#Create nested dictionary w. var names : values\n",
    "te_form_value_label_dict = {te_form_var_list[i] : te_form_inner_dict for i in range(len(te_form_var_list))}\n",
    "\n",
    "#Create values df \n",
    "te_form_rows = []\n",
    "for key, values in te_form_value_label_dict.items():\n",
    "    for k, v in values.items():\n",
    "        te_form_rows.append([key,k,v])\n",
    "te_form_values_df = pd.DataFrame(te_form_rows, columns=[\"Var_Name\", \"Value\",\"Value_Label\"])"
   ]
  },
  {
   "cell_type": "code",
   "execution_count": null,
   "id": "38dc8f11",
   "metadata": {},
   "outputs": [],
   "source": [
    "#Update data_dict_df with text entry vars if any\n",
    "if len(te_form_var_list) > 0:\n",
    "    #first create a placeholder df with Var_Name & Var_Labels\n",
    "    p_data_dict_df = pd.concat([pd.Series(x) for x in [te_form_var_list, te_form_var_label_list]], axis=1).rename(columns={0:\"Var_Name\",1:\"Var_Label\"})\n",
    "    #merge in values df\n",
    "    p_data_dict_df = pd.merge(p_data_dict_df, te_form_values_df, on='Var_Name', how='inner')\n",
    "    #assign data type -- STRING for text entry\n",
    "    p_data_dict_df['Data_Type'] = \"STRING\"\n",
    "    #assign question type\n",
    "    p_data_dict_df['Question_Type'] = \"text-entry form\"\n",
    "    #merge into data_dict_df\n",
    "    data_dict_df = pd.concat([data_dict_df,p_data_dict_df])"
   ]
  },
  {
   "cell_type": "markdown",
   "id": "e66a9c0d",
   "metadata": {},
   "source": [
    "#### Matrix Variables - Not TE\n",
    "* For Matrix Variables where the selector is not TE"
   ]
  },
  {
   "cell_type": "code",
   "execution_count": null,
   "id": "bcd0dd85",
   "metadata": {},
   "outputs": [],
   "source": [
    "#Create list of QIDs for matrix (non-text entry) variables\n",
    "matrix_range = []\n",
    "for i in data['questions']:\n",
    "    if ((data['questions'][i]['questionType']['type'] == 'Matrix') & (data['questions'][i]['questionType']['selector'] != 'TE')):\n",
    "        matrix_range.append(i)"
   ]
  },
  {
   "cell_type": "code",
   "execution_count": null,
   "id": "89429ef2",
   "metadata": {},
   "outputs": [],
   "source": [
    "#Create matrix variable name list\n",
    "matrix_var_list = []\n",
    "\n",
    "#Need to select value -- recode value from the key, value pairs of the subQuestions (statements/rows of the matrix)\n",
    "for i in matrix_range:\n",
    "    for key, value in data['questions'][i]['subQuestions'].items():\n",
    "        #then need to add that to the QID to get variable importid\n",
    "        matrix_var_list.append(str(i) + '_' + str(value['recode']))\n",
    "\n",
    "#Then rename the importid with the question export tag from api_q_dict created above\n",
    "matrix_var_list = [api_q_dict.get(item,item) for item in matrix_var_list] "
   ]
  },
  {
   "cell_type": "code",
   "execution_count": null,
   "id": "c2bfb0c6",
   "metadata": {
    "scrolled": true
   },
   "outputs": [],
   "source": [
    "#Get variable labels\n",
    "matrix_var_label_list = []\n",
    "\n",
    "#Need to select value -- choiceText from the key, value pairs of the subQuestions (statements/rows of the matrix)\n",
    "for i in matrix_range:\n",
    "    for key, value in data['questions'][i]['subQuestions'].items():\n",
    "        #then need to add that to the data questionText to get the desired variable labels\n",
    "        matrix_var_label_list.append(str(data['questions'][i]['questionText']) + ' - ' + str(value['choiceText']))"
   ]
  },
  {
   "cell_type": "code",
   "execution_count": null,
   "id": "79cb607d",
   "metadata": {},
   "outputs": [],
   "source": [
    "#Create list of value and label dictionaries\n",
    "matrix_value_label_dict_list = []\n",
    "\n",
    "#Iterate through the questions and then the choices\n",
    "for i in matrix_range:\n",
    "    matrix_inner_dict = {}\n",
    "    for k in data['questions'][i]['subQuestions'].items():\n",
    "        for j in data['questions'][i]['choices']:\n",
    "            #for each, create a dict with the recode value as keys and corresp. choiceText as values (the labels)\n",
    "            matrix_inner_dict.update({data['questions'][i]['choices'][j]['recode'] : data['questions'][i]['choices'][j]['choiceText']})\n",
    "        #add each into a list\n",
    "        matrix_value_label_dict_list.append(matrix_inner_dict)\n",
    "\n",
    "\n",
    "#Create nested dictionary w. var names : {the dict created above}  \n",
    "matrix_value_label_dict = {matrix_var_list[i] : matrix_value_label_dict_list[i] for i in range(len(matrix_var_list))}\n",
    "\n",
    "#Create values df\n",
    "matrix_rows = []\n",
    "for key, values in matrix_value_label_dict.items():\n",
    "    for k, v in values.items():\n",
    "        matrix_rows.append([key,k,v])\n",
    "matrix_values_df = pd.DataFrame(matrix_rows, columns=[\"Var_Name\", \"Value\",\"Value_Label\"])"
   ]
  },
  {
   "cell_type": "code",
   "execution_count": null,
   "id": "914593b3",
   "metadata": {},
   "outputs": [],
   "source": [
    "#Update data_dict_df with matrix vars if any\n",
    "if len(matrix_var_list) > 0:\n",
    "    #first create a placeholder df with Var_Name & Var_Labels\n",
    "    p_data_dict_df = pd.concat([pd.Series(x) for x in [matrix_var_list, matrix_var_label_list]], axis=1).rename(columns={0:\"Var_Name\",1:\"Var_Label\"})\n",
    "    #merge in values df\n",
    "    p_data_dict_df = pd.merge(p_data_dict_df, matrix_values_df, on='Var_Name', how='inner')\n",
    "    #assign data type -- INT because categorical\n",
    "    p_data_dict_df['Data_Type'] = \"INT\"\n",
    "    #assign question type\n",
    "    p_data_dict_df['Question_Type'] = \"matrix\"\n",
    "    #merge into data_dict_df\n",
    "    data_dict_df = pd.concat([data_dict_df,p_data_dict_df])"
   ]
  },
  {
   "cell_type": "markdown",
   "id": "1a322059",
   "metadata": {},
   "source": [
    "#### Matrix Variables - Text Entry\n",
    "* For Matrix Variables where the selector is TE (text entry)\n",
    "* No value labels"
   ]
  },
  {
   "cell_type": "code",
   "execution_count": null,
   "id": "bb7ac929",
   "metadata": {},
   "outputs": [],
   "source": [
    "#Create list of QIDs for matrix te variables\n",
    "matrix_te_range = []\n",
    "for i in data['questions']:\n",
    "    if ((data['questions'][i]['questionType']['type'] == 'Matrix') & (data['questions'][i]['questionType']['selector'] == 'TE')):\n",
    "        matrix_te_range.append(i)"
   ]
  },
  {
   "cell_type": "code",
   "execution_count": null,
   "id": "1880e203",
   "metadata": {},
   "outputs": [],
   "source": [
    "#Create matrix variable name list\n",
    "matrix_te_var_list = []\n",
    "\n",
    "#Need to select value -- recode value from the key, value pairs of the subQuestions (statements/matrix rows)\n",
    "for i in matrix_te_range:\n",
    "    for key, value in data['questions'][i]['subQuestions'].items():\n",
    "        #and select the key from the key, value pairs of the choices\n",
    "        for key2, value2 in data['questions'][i]['choices'].items():\n",
    "            #then need to add each of those to the QID to get variable importid\n",
    "            matrix_te_var_list.append(str(i) + '_' + str(value['recode']) + \"_\" + str(key2))\n",
    "\n",
    "#Then rename the importid with the question export tag from api_q_dict created above\n",
    "matrix_te_var_list = [api_q_dict.get(item,item) for item in matrix_te_var_list] "
   ]
  },
  {
   "cell_type": "code",
   "execution_count": null,
   "id": "d82bb664",
   "metadata": {},
   "outputs": [],
   "source": [
    "#Get variable labels\n",
    "matrix_te_var_label_list = []\n",
    "\n",
    "#Need to select value -- choiceText from the key, value pairs of the subQuestions\n",
    "for i in matrix_te_range:\n",
    "    for key, value in data['questions'][i]['subQuestions'].items():\n",
    "        #and select the value -- choiceText from the key, value pairs of the choices\n",
    "        for key2, value2 in data['questions'][i]['choices'].items():\n",
    "            #then need to add both of those to the questionText to get the desired variable labels\n",
    "            matrix_te_var_label_list.append(str(data['questions'][i]['questionText']) + ' - ' + str(value['choiceText'])+ ' - ' + str(value2['choiceText']))\n"
   ]
  },
  {
   "cell_type": "code",
   "execution_count": null,
   "id": "5be6ddc3",
   "metadata": {},
   "outputs": [],
   "source": [
    "#Create dictionary with responses, nan : 'text' because text entry\n",
    "matrix_te_inner_dict = {np.nan: 'text'}\n",
    "\n",
    "#Create nested dictionary w. var names : values\n",
    "matrix_te_value_label_dict = {matrix_te_var_list[i] : matrix_te_inner_dict for i in range(len(matrix_te_var_list))}\n",
    "\n",
    "#Create values df \n",
    "matrix_te_rows = []\n",
    "for key, values in matrix_te_value_label_dict.items():\n",
    "    for k, v in values.items():\n",
    "        matrix_te_rows.append([key,k,v])\n",
    "matrix_te_values_df = pd.DataFrame(matrix_te_rows, columns=[\"Var_Name\", \"Value\",\"Value_Label\"])\n"
   ]
  },
  {
   "cell_type": "code",
   "execution_count": null,
   "id": "7b32d130",
   "metadata": {
    "scrolled": true
   },
   "outputs": [],
   "source": [
    "#Update data_dict_df with matrix text entry vars if any\n",
    "if len(matrix_te_var_list) > 0:\n",
    "    #first create a placeholder df with Var_Name & Var_Labels\n",
    "    p_data_dict_df = pd.concat([pd.Series(x) for x in [matrix_te_var_list, matrix_te_var_label_list]], axis=1).rename(columns={0:\"Var_Name\",1:\"Var_Label\"})\n",
    "    #merge in values df\n",
    "    p_data_dict_df = pd.merge(p_data_dict_df, matrix_te_values_df, on='Var_Name', how='inner')\n",
    "    #assign data type -- STRING because text entry (may need to edit later)\n",
    "    p_data_dict_df['Data_Type'] = \"STRING\"\n",
    "    #assign question type\n",
    "    p_data_dict_df['Question_Type'] = \"matrix\"\n",
    "    #merge into data_dict_df\n",
    "    data_dict_df = pd.concat([data_dict_df,p_data_dict_df])"
   ]
  },
  {
   "cell_type": "markdown",
   "id": "bbd886f0",
   "metadata": {},
   "source": [
    "#### SBS (Side by Side) Variables - Not TE\n",
    "* For SBS Variables where the selector is not TE"
   ]
  },
  {
   "cell_type": "code",
   "execution_count": null,
   "id": "344ee8d9",
   "metadata": {},
   "outputs": [],
   "source": [
    "#Create list of QIDs for all sbs vars\n",
    "sbs_range = []\n",
    "for i in data['questions']:\n",
    "    if (data['questions'][i]['questionType']['type'] == 'SBS'):\n",
    "        sbs_range.append(i)\n",
    "\n",
    "#Select != 'TE' from columns -- question type\n",
    "sbs_nte_range = []\n",
    "for i in sbs_range:\n",
    "     for key, value in data['questions'][i]['columns'].items(): \n",
    "        if (data['questions'][i]['columns'][key]['questionType']['selector'] != 'TE'):\n",
    "            sbs_nte_range.append(i)\n",
    "\n",
    "#Remove duplicates\n",
    "sbs_nte_range_dup = []\n",
    "[sbs_nte_range_dup.append(i) for i in sbs_nte_range if i not in sbs_nte_range_dup]\n",
    "sbs_nte_range = sbs_nte_range_dup"
   ]
  },
  {
   "cell_type": "code",
   "execution_count": null,
   "id": "3572e44e",
   "metadata": {},
   "outputs": [],
   "source": [
    "#Create side by side non-text entry variable name list\n",
    "sbs_nte_var_list = []\n",
    "\n",
    "#Need to select key from the key, value pairs of the columns\n",
    "for i in sbs_nte_range:\n",
    "    for key, value in data['questions'][i]['columns'].items():\n",
    "        #Select only non-text entry columns\n",
    "        if (data['questions'][i]['columns'][key]['questionType']['selector'] != 'TE'):\n",
    "            #and select key from the key, value pairs of the subQuestions\n",
    "            for key2, value2 in data['questions'][i]['subQuestions'].items():\n",
    "                #then need to add both of those to the QID to get variable importid\n",
    "                sbs_nte_var_list.append(str(i) + '#' + str(key) + \"_\" + str(key2))\n",
    "\n",
    "#Then rename the importid with the question export tag from api_q_dict created above\n",
    "sbs_nte_var_list = [api_q_dict.get(item,item) for item in sbs_nte_var_list]    "
   ]
  },
  {
   "cell_type": "code",
   "execution_count": null,
   "id": "b7d61ac9",
   "metadata": {},
   "outputs": [],
   "source": [
    "#Get variable labels\n",
    "sbs_nte_var_label_list = []\n",
    "\n",
    "#Need to select value -- questionText from the key, value pairs of the columns\n",
    "for i in sbs_nte_range:\n",
    "    for key, value in data['questions'][i]['columns'].items():\n",
    "        #Select only non-text entry columns\n",
    "        if (data['questions'][i]['columns'][key]['questionType']['selector'] != 'TE'):\n",
    "            #and select value -- choiceText from the key, value pairs of the subQuestions (statements/rows)\n",
    "            for key2, value2 in data['questions'][i]['subQuestions'].items():\n",
    "                #then need to concatenate those to get the desired variable label\n",
    "                sbs_nte_var_label_list.append(str(value['questionText']) + ' - ' + str(value2['choiceText']))\n",
    "  "
   ]
  },
  {
   "cell_type": "code",
   "execution_count": null,
   "id": "1f896d8f",
   "metadata": {},
   "outputs": [],
   "source": [
    "# Create values list\n",
    "sbs_nte_value_label_dict_list = []\n",
    "\n",
    "for i in sbs_nte_range:\n",
    "    # Iterate through the key, value pairs of the columns\n",
    "    for key, value in data['questions'][i]['columns'].items():\n",
    "        #Select only non-text entry columns\n",
    "        if (data['questions'][i]['columns'][key]['questionType']['selector'] != 'TE'):\n",
    "            #Create an empty dictionary\n",
    "            sbs_nte_inner_dict = {}\n",
    "            # Then iterate through value -- choices for each column\n",
    "            for key2, value2 in value['choices'].items():\n",
    "                # Add the recode value and its corresponding label to the dictionary\n",
    "                sbs_nte_inner_dict.update({value2['recode'] : value2['choiceText']})\n",
    "            # Then add each dictionary of values and labels to a list for each statement/row\n",
    "            for j in range(len(data['questions'][i]['subQuestions'])): \n",
    "                sbs_nte_value_label_dict_list.append(sbs_nte_inner_dict)\n",
    "\n",
    "#Create nested dictionary w. var names : values   \n",
    "sbs_nte_value_label_dict = {sbs_nte_var_list[i] : sbs_nte_value_label_dict_list[i] for i in range(len(sbs_nte_var_list))}\n"
   ]
  },
  {
   "cell_type": "code",
   "execution_count": null,
   "id": "bd45884a",
   "metadata": {},
   "outputs": [],
   "source": [
    "#Create sbs nte values df\n",
    "sbs_nte_rows = []\n",
    "for key, values in sbs_nte_value_label_dict.items():\n",
    "    for k, v in values.items():\n",
    "        sbs_nte_rows.append([key,k,v])\n",
    "\n",
    "sbs_nte_values_df = pd.DataFrame(sbs_nte_rows, columns=[\"Var_Name\", \"Value\",\"Value_Label\"])\n"
   ]
  },
  {
   "cell_type": "code",
   "execution_count": null,
   "id": "1561cf40",
   "metadata": {},
   "outputs": [],
   "source": [
    "#Update data_dict_df with side by side non-text entry vars if any\n",
    "if len(sbs_nte_var_list) > 0:\n",
    "    #first create a placeholder df with Var_Name & Var_Labels\n",
    "    p_data_dict_df = pd.concat([pd.Series(x) for x in [sbs_nte_var_list, sbs_nte_var_label_list]], axis=1).rename(columns={0:\"Var_Name\",1:\"Var_Label\"})\n",
    "    #merge in values df\n",
    "    p_data_dict_df = pd.merge(p_data_dict_df, sbs_nte_values_df, on='Var_Name', how='inner')\n",
    "    #assign data type -- INT because categorical\n",
    "    p_data_dict_df['Data_Type'] = \"INT\"\n",
    "    #assign question type\n",
    "    p_data_dict_df['Question_Type'] = \"side-by-side\"\n",
    "    #merge into data_dict_df\n",
    "    data_dict_df = pd.concat([data_dict_df,p_data_dict_df])"
   ]
  },
  {
   "cell_type": "markdown",
   "id": "b6ad660e",
   "metadata": {},
   "source": [
    "#### SBS (Side by Side) Variables - Text Entry\n",
    "* For side by side variables where the selector is TE"
   ]
  },
  {
   "cell_type": "code",
   "execution_count": null,
   "id": "5e3673af",
   "metadata": {},
   "outputs": [],
   "source": [
    "#Create list of QIDs for all sbs var columns where the selector is TE\n",
    "sbs_te_range = []\n",
    "for i in sbs_range:\n",
    "     for key, value in data['questions'][i]['columns'].items(): \n",
    "            if (data['questions'][i]['columns'][key]['questionType']['selector'] == 'TE'):\n",
    "                sbs_te_range.append(i)\n",
    "            \n",
    "#Remove duplicates\n",
    "sbs_te_range_dup = []\n",
    "[sbs_te_range_dup.append(i) for i in sbs_te_range if i not in sbs_te_range_dup]\n",
    "sbs_te_range = sbs_te_range_dup"
   ]
  },
  {
   "cell_type": "code",
   "execution_count": null,
   "id": "9fb18495",
   "metadata": {},
   "outputs": [],
   "source": [
    "#Create side by side text-entry variable name list\n",
    "sbs_te_var_list = []\n",
    "\n",
    "#Need to select key from the key, value pairs of the columns\n",
    "for i in sbs_te_range:\n",
    "    for key, value in data['questions'][i]['columns'].items():\n",
    "        #Select only text entry columns\n",
    "        if (data['questions'][i]['columns'][key]['questionType']['selector'] == 'TE'):\n",
    "            #and select key from key, value pairs of the subQuestions (statements/rows)\n",
    "            for key2, value2 in data['questions'][i]['subQuestions'].items():\n",
    "                #then add both of those and a trailing _1 to the QID to get the variable importid\n",
    "                sbs_te_var_list.append(str(i) + '#' + str(key) + \"_\" + str(key2) + \"_1\")\n",
    "\n",
    "#Then rename the importid with the question export tag from the api var list (df)\n",
    "sbs_te_var_list = [api_q_dict.get(item,item) for item in sbs_te_var_list] "
   ]
  },
  {
   "cell_type": "code",
   "execution_count": null,
   "id": "f907a07c",
   "metadata": {},
   "outputs": [],
   "source": [
    "#Get variable labels\n",
    "sbs_te_var_label_list = []\n",
    "\n",
    "#Need to select value -- questionText from the key, value pairs of the columns\n",
    "for i in sbs_te_range:\n",
    "    for key, value in data['questions'][i]['columns'].items():\n",
    "        #Select only text entry columns\n",
    "        if (data['questions'][i]['columns'][key]['questionType']['selector'] == 'TE'):\n",
    "            #and select value -- choiceText from the key, value pairs of the subQuestions (statements/rows)\n",
    "            for key2, value2 in data['questions'][i]['subQuestions'].items():\n",
    "                #then need to concatenate those to get the desired variable label\n",
    "                sbs_te_var_label_list.append(str(value['questionText']) + ' - ' + str(value2['choiceText']))"
   ]
  },
  {
   "cell_type": "code",
   "execution_count": null,
   "id": "b13b8302",
   "metadata": {},
   "outputs": [],
   "source": [
    "#Create dictionary with responses\n",
    "sbs_te_inner_dict = {np.nan: 'text'}\n",
    "\n",
    "#Create nested dictionary w. var names : values\n",
    "sbs_te_value_label_dict = {sbs_te_var_list[i] : sbs_te_inner_dict for i in range(len(sbs_te_var_list))}\n",
    "\n",
    "#Create values df \n",
    "sbs_te_rows = []\n",
    "for key, values in sbs_te_value_label_dict.items():\n",
    "    for k, v in values.items():\n",
    "        sbs_te_rows.append([key,k,v])\n",
    "sbs_te_values_df = pd.DataFrame(sbs_te_rows, columns=[\"Var_Name\", \"Value\",\"Value_Label\"])"
   ]
  },
  {
   "cell_type": "code",
   "execution_count": null,
   "id": "a4a034e2",
   "metadata": {},
   "outputs": [],
   "source": [
    "#Update data_dict_df with side by side text entry vars if any\n",
    "if len(sbs_te_var_list) > 0:\n",
    "    #first create a placeholder df with Var_Name & Var_Labels\n",
    "    p_data_dict_df = pd.concat([pd.Series(x) for x in [sbs_te_var_list, sbs_te_var_label_list]], axis=1).rename(columns={0:\"Var_Name\",1:\"Var_Label\"})\n",
    "    #merge in values df\n",
    "    p_data_dict_df = pd.merge(p_data_dict_df, sbs_te_values_df, on='Var_Name', how='inner')\n",
    "    #assign data type -- INT because categorical\n",
    "    p_data_dict_df['Data_Type'] = \"INT\"\n",
    "    #assign question type\n",
    "    p_data_dict_df['Question_Type'] = \"side-by-side\"\n",
    "    #merge into data_dict_df\n",
    "    data_dict_df = pd.concat([data_dict_df,p_data_dict_df])"
   ]
  },
  {
   "cell_type": "markdown",
   "id": "3e3e90d6",
   "metadata": {},
   "source": [
    "### Embedded Data\n",
    "* Add each embedded data variable to the data dictionary\n",
    "* Will add to values data_dict_df after, as there will be manual labeling needed"
   ]
  },
  {
   "cell_type": "code",
   "execution_count": null,
   "id": "dd1c655e",
   "metadata": {},
   "outputs": [],
   "source": [
    "#Create Embedded Data Vars list\n",
    "ED_var_list = []\n",
    "\n",
    "for i in range(len(data['embeddedData'])):\n",
    "    ED_var_list.append(data['embeddedData'][i]['name'])"
   ]
  },
  {
   "cell_type": "code",
   "execution_count": null,
   "id": "e340289f",
   "metadata": {},
   "outputs": [],
   "source": [
    "#Update data_dict_df with embedded data -- just var name for now\n",
    "if len(ED_var_list) > 0:\n",
    "    #first create a placeholder df with Var_Name\n",
    "    p_data_dict_df = pd.concat([pd.Series(x) for x in [ED_var_list]], axis=1).rename(columns={0:\"Var_Name\"})\n",
    "    #assign question type\n",
    "    p_data_dict_df['Question_Type'] = \"embedded data\"\n",
    "    #merge into data_dict_df\n",
    "    data_dict_df = pd.concat([data_dict_df,p_data_dict_df])"
   ]
  },
  {
   "cell_type": "markdown",
   "id": "e2c03210",
   "metadata": {},
   "source": [
    "## Step 3: Clean Data Dictionary <a class=\"anchor\" id=\"3\"></a>"
   ]
  },
  {
   "cell_type": "markdown",
   "id": "191548ea",
   "metadata": {},
   "source": [
    "#### Update Qualtrics Survey Metadata Variables"
   ]
  },
  {
   "cell_type": "code",
   "execution_count": null,
   "id": "5d0ee341",
   "metadata": {},
   "outputs": [],
   "source": [
    "#Create dictionary with variable names, variable labels, values (if categorical), value labels, and data type\n",
    "metadata_dict = {\n",
    "    'Var_Name' : ['StartDate','EndDate','Status','Status','Status','Status','Status','Status','Status','Status',\n",
    "                  'IPAddress','Progress','Duration (in seconds)','Finished','Finished','RecordedDate','ResponseId',\n",
    "                  'RecipientLastName','RecipientFirstName','RecipientEmail','ExternalReference','LocationLatitude',\n",
    "                  'LocationLongitude','DistributionChannel','UserLanguage'],\n",
    "    'Var_Label' : ['Date and time when respondent first clicked the survey link',\n",
    "                   'Date and time when respondent submitted the survey / last interacted with survey',\n",
    "                   'Type of response collected','Type of response collected','Type of response collected','Type of response collected','Type of response collected','Type of response collected','Type of response collected','Type of response collected',\n",
    "                   'Respondent IP address',\n",
    "                   'Progress respondent made in the survey',\n",
    "                   'Number of seconds it took respondent to complete the survey',\n",
    "                   'Indicator for whether response was submitted','Indicator for whether response was submitted',\n",
    "                   'Date and time when response was recorded in Qualtrics',\n",
    "                   'Unique ID Qualtrics uses to identify each response',\n",
    "                   'Recipient last name, if response from contact list distribution',\n",
    "                   'Recipient first name, if response from contact list distribution',\n",
    "                   'Recipient email address, if response from contact list distribution',\n",
    "                   'User defined unique ID for recipient, if response from contact list distribution',\n",
    "                   'Approximate latitude of location based on IPAddress',\n",
    "                   'Approximate longitude of location based on IPAddress',\n",
    "                   'Method of survey distribution for response',\n",
    "                   'Language code of response, if survey distributed in multiple languages'],\n",
    "    'Value' : [np.nan,np.nan,0,1,2,4,8,9,16,17,np.nan,np.nan,np.nan,0,1,np.nan,np.nan,np.nan,\n",
    "                   np.nan,np.nan,np.nan,np.nan,np.nan,np.nan,np.nan],\n",
    "    'Value_Label' : ['date_time','date_time','IP Address','Survey Preview','Survey Test','Imported','Spam','Preview Spam','Offline','Offline Preview',\n",
    "                     'text','numeric','numeric','Not submitted','Submitted','date_time','text',\n",
    "                     'text','text','text','text','text','text','text','text'],\n",
    "    'Data_Type' : ['TIMESTAMP','TIMESTAMP','INT','INT','INT','INT','INT','INT','INT','INT','STRING','FLOAT',\n",
    "                   'INT','INT','INT','TIMESTAMP','STRING','STRING','STRING','STRING','STRING','STRING','STRING','STRING',\n",
    "                   'STRING']\n",
    "}\n",
    "\n",
    "#convert to pandas df\n",
    "metadata_df = pd.DataFrame(metadata_dict)\n",
    "\n",
    "#Add Question_Type\n",
    "metadata_df['Question_Type'] = 'survey metadata'\n",
    "\n",
    "#Drop metadata variables from data_dict_df\n",
    "metadata_var_list = ['StartDate','EndDate','Status','IPAddress','Progress','Duration (in seconds)','Finished',\n",
    "                     'RecordedDate','ResponseId','RecipientLastName','RecipientFirstName','RecipientEmail',\n",
    "                     'ExternalReference','LocationLatitude','LocationLongitude','DistributionChannel','UserLanguage']\n",
    "data_dict_df = data_dict_df[~data_dict_df['Var_Name'].isin(metadata_var_list)].copy()\n",
    "\n",
    "#Concat data_dict_df with metadata_df\n",
    "data_dict_df = pd.concat([data_dict_df,metadata_df])"
   ]
  },
  {
   "cell_type": "markdown",
   "id": "a41176ce",
   "metadata": {},
   "source": [
    "#### Variable order\n",
    "* Get variable order from responses dataset\n",
    "* Merge with data dictionary\n",
    "* Sort data dictionary"
   ]
  },
  {
   "cell_type": "code",
   "execution_count": null,
   "id": "6b177a42",
   "metadata": {},
   "outputs": [],
   "source": [
    "#Create Var_Order variable to have consistent order of variables between codebook and df\n",
    "\n",
    "#Create list of columns\n",
    "column_list = df.columns.to_list()\n",
    "\n",
    "#Get order from columns\n",
    "var_order = []\n",
    "[var_order.append(i + 1) for i in range(len(column_list))]\n",
    "\n",
    "#Create a df with columns & their order\n",
    "var_order_df = pd.DataFrame({'Var_Name': column_list, 'Var_Order':var_order})\n",
    "\n",
    "#Merge into data_dict_df - outer to see if any errors occured\n",
    "data_dict_df = pd.merge(data_dict_df, var_order_df, on='Var_Name', how='outer')"
   ]
  },
  {
   "cell_type": "code",
   "execution_count": null,
   "id": "6ed973fa",
   "metadata": {},
   "outputs": [],
   "source": [
    "#Sort data_dict_df by 'Value' then 'Var_Order'\n",
    "data_dict_df['Value'] = data_dict_df['Value'].apply(pd.to_numeric, errors='coerce')\n",
    "data_dict_df['Var_Order'] = data_dict_df['Var_Order'].apply(pd.to_numeric)\n",
    "data_dict_df = data_dict_df.sort_values(by=['Var_Order','Var_Name','Value'])\n",
    "\n",
    "#Reorder variables\n",
    "data_dict_df = data_dict_df[['Var_Name','Var_Label','Value','Value_Label','Data_Type','Var_Order','Question_Type']]"
   ]
  },
  {
   "cell_type": "code",
   "execution_count": null,
   "id": "28ae7daf",
   "metadata": {},
   "outputs": [],
   "source": [
    "#Reset the index of the data dictionary\n",
    "data_dict_df = data_dict_df.reset_index().drop(columns='index')"
   ]
  },
  {
   "cell_type": "markdown",
   "id": "f1fc92fe",
   "metadata": {},
   "source": [
    "#### Add info for embedded data variables\n",
    "* Value labels and data type for categorical embedded data variables cannot be determined without manual override\n",
    "* All will be set to STRING data type by default and missing values for value and value labels\n",
    "* Adjust logic as needed based on survey embedded data values"
   ]
  },
  {
   "cell_type": "code",
   "execution_count": null,
   "id": "c83521af",
   "metadata": {
    "scrolled": false
   },
   "outputs": [],
   "source": [
    "#Assign Var_Label from copy of Var_Name\n",
    "data_dict_df['Var_Label'] = np.where(data_dict_df['Question_Type']=='embedded data', data_dict_df['Var_Name'], data_dict_df['Var_Label'])\n",
    "\n",
    "#Assign Data_Type (STRING)\n",
    "data_dict_df['Data_Type'] = np.where(data_dict_df['Question_Type']=='embedded data', 'STRING', data_dict_df['Data_Type'])"
   ]
  },
  {
   "cell_type": "markdown",
   "id": "af3e0791",
   "metadata": {},
   "source": [
    "#### Clean up variable & value labels"
   ]
  },
  {
   "cell_type": "code",
   "execution_count": null,
   "id": "63e5b0a0",
   "metadata": {},
   "outputs": [],
   "source": [
    "#Functions to strip html\n",
    "class MLStripper(HTMLParser):\n",
    "    def __init__(self):\n",
    "        super().__init__()\n",
    "        self.reset()\n",
    "        self.strict = False\n",
    "        self.convert_charrefs= True\n",
    "        self.text = StringIO()\n",
    "    def handle_data(self, d):\n",
    "        self.text.write(d)\n",
    "    def get_data(self):\n",
    "        return self.text.getvalue()\n",
    "\n",
    "def strip_tags(html):\n",
    "    s = MLStripper()\n",
    "    s.feed(html)\n",
    "    return s.get_data()\n",
    "\n",
    "#Clean up variable & value labels\n",
    "def clean_label(x):\n",
    "    #Remove HTML\n",
    "    clean_x = strip_tags(x)\n",
    "    #Remove line breaks\n",
    "    clean_x = re.sub(r'\\n', ' ', clean_x)\n",
    "    #Remove extra white space (2+)\n",
    "    clean_x = re.sub(r'\\s{2,}', ' ', clean_x)\n",
    "    #then remove leading white space\n",
    "    clean_x  = re.sub(r'^\\s','', clean_x)\n",
    "    #finally remove trailing white space\n",
    "    clean_x = re.sub(r'\\s$','', clean_x)\n",
    "    return clean_x\n",
    "    \n",
    "data_dict_df['Var_Label'] = [clean_label(i) for i in data_dict_df['Var_Label'].astype(str)]\n",
    "data_dict_df['Value_Label'] = [clean_label(i) for i in data_dict_df['Value_Label'].astype(str)]"
   ]
  },
  {
   "cell_type": "markdown",
   "id": "6df4fc50",
   "metadata": {},
   "source": [
    "## Step 4: Save as csv <a class=\"anchor\" id=\"4\"></a>"
   ]
  },
  {
   "cell_type": "code",
   "execution_count": null,
   "id": "e7266093",
   "metadata": {},
   "outputs": [],
   "source": [
    "#Export data_dict_df\n",
    "data_dict_df.to_csv('data_dictionary.csv', index = False)"
   ]
  }
 ],
 "metadata": {
  "kernelspec": {
   "display_name": "Python 3 (ipykernel)",
   "language": "python",
   "name": "python3"
  },
  "language_info": {
   "codemirror_mode": {
    "name": "ipython",
    "version": 3
   },
   "file_extension": ".py",
   "mimetype": "text/x-python",
   "name": "python",
   "nbconvert_exporter": "python",
   "pygments_lexer": "ipython3",
   "version": "3.9.13"
  }
 },
 "nbformat": 4,
 "nbformat_minor": 5
}
